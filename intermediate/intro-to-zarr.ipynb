{
 "cells": [
  {
   "cell_type": "markdown",
   "id": "8253fe2d",
   "metadata": {},
   "source": [
    "# Intro to Zarr\n",
    "\n",
    "This notebook provides a brief introduction to Zarr and how to\n",
    "use it in cloud environments for scalable, chunked, and compressed data storage.\n",
    "Zarr is a file format with implementations in different languages. In this tutorial, we will look at an example of how to use the Zarr format by looking at some features of the `zarr-python` library and how Zarr files can be opened with `xarray`.\n",
    "\n",
    "## What is Zarr?\n",
    "\n",
    "The Zarr data format is an open, community-maintained format designed for efficient, scalable storage of large N-dimensional arrays. It stores data as compressed and chunked arrays in a format well-suited to parallel processing and cloud-native workflows.\n",
    "\n",
    "### Zarr Data Organization:\n",
    "- **Arrays**: N-dimensional arrays that can be chunked and compressed.\n",
    "- **Groups**: A container for organizing multiple arrays and other groups with a hierarchical structure.\n",
    "- **Metadata**: JSON-like metadata describing the arrays and groups, including information about dimensions, data types, and compression.\n",
    "- **Dimensions and Shape**: Arrays can have any number of dimensions, and their shape is defined by the number of elements in each dimension.\n",
    "- **Coordinates & Indexing**: Zarr supports coordinate arrays for each dimension, allowing for efficient indexing and slicing.\n",
    "\n",
    "The diagram below showing the structure of a Zarr file:\n",
    "![EarthData](https://learning.nceas.ucsb.edu/2025-04-arctic/images/zarr-chunks.png)\n"
   ]
  },
  {
   "cell_type": "markdown",
   "id": "89a8f0ec",
   "metadata": {
    "vscode": {
     "languageId": "plaintext"
    }
   },
   "source": [
    "### Zarr Fundamenals\n",
    "A Zarr array has the following important properties:\n",
    "- **Shape**: The dimensions of the array.\n",
    "- **Dtype**: The data type of each element (e.g., float32).\n",
    "- **Attributes**: Metadata stored as key-value pairs (e.g., units, description.\n",
    "- **Compressors**: Algorithms used to compress each chunk (e.g., Blosc, Zlib).\n",
    "\n",
    "\n",
    "#### Example: Creating and Inspecting a Zarr Array"
   ]
  },
  {
   "cell_type": "code",
   "execution_count": 1,
   "id": "ae9c38ed",
   "metadata": {},
   "outputs": [
    {
     "data": {
      "text/plain": [
       "<zarr.core.Array (40, 50) float64>"
      ]
     },
     "execution_count": 1,
     "metadata": {},
     "output_type": "execute_result"
    }
   ],
   "source": [
    "import zarr\n",
    "z = zarr.create(shape=(40, 50), chunks=(10, 10), dtype='f8', store='test.zarr')\n",
    "z"
   ]
  },
  {
   "cell_type": "code",
   "execution_count": 2,
   "id": "0f39867a",
   "metadata": {},
   "outputs": [
    {
     "data": {
      "text/html": [
       "<table class=\"zarr-info\"><tbody><tr><th style=\"text-align: left\">Type</th><td style=\"text-align: left\">zarr.core.Array</td></tr><tr><th style=\"text-align: left\">Data type</th><td style=\"text-align: left\">float64</td></tr><tr><th style=\"text-align: left\">Shape</th><td style=\"text-align: left\">(40, 50)</td></tr><tr><th style=\"text-align: left\">Chunk shape</th><td style=\"text-align: left\">(10, 10)</td></tr><tr><th style=\"text-align: left\">Order</th><td style=\"text-align: left\">C</td></tr><tr><th style=\"text-align: left\">Read-only</th><td style=\"text-align: left\">False</td></tr><tr><th style=\"text-align: left\">Compressor</th><td style=\"text-align: left\">Blosc(cname='lz4', clevel=5, shuffle=SHUFFLE, blocksize=0)</td></tr><tr><th style=\"text-align: left\">Store type</th><td style=\"text-align: left\">zarr.storage.DirectoryStore</td></tr><tr><th style=\"text-align: left\">No. bytes</th><td style=\"text-align: left\">16000 (15.6K)</td></tr><tr><th style=\"text-align: left\">No. bytes stored</th><td style=\"text-align: left\">337</td></tr><tr><th style=\"text-align: left\">Storage ratio</th><td style=\"text-align: left\">47.5</td></tr><tr><th style=\"text-align: left\">Chunks initialized</th><td style=\"text-align: left\">0/20</td></tr></tbody></table>"
      ],
      "text/plain": [
       "Type               : zarr.core.Array\n",
       "Data type          : float64\n",
       "Shape              : (40, 50)\n",
       "Chunk shape        : (10, 10)\n",
       "Order              : C\n",
       "Read-only          : False\n",
       "Compressor         : Blosc(cname='lz4', clevel=5, shuffle=SHUFFLE, blocksize=0)\n",
       "Store type         : zarr.storage.DirectoryStore\n",
       "No. bytes          : 16000 (15.6K)\n",
       "No. bytes stored   : 337\n",
       "Storage ratio      : 47.5\n",
       "Chunks initialized : 0/20"
      ]
     },
     "execution_count": 2,
     "metadata": {},
     "output_type": "execute_result"
    }
   ],
   "source": [
    "z.info"
   ]
  },
  {
   "cell_type": "code",
   "execution_count": 3,
   "id": "dbe47985",
   "metadata": {},
   "outputs": [
    {
     "data": {
      "text/plain": [
       "0.0"
      ]
     },
     "execution_count": 3,
     "metadata": {},
     "output_type": "execute_result"
    }
   ],
   "source": [
    "z.fill_value"
   ]
  },
  {
   "cell_type": "markdown",
   "id": "f5dcee68",
   "metadata": {},
   "source": [
    "No data has been written to the array yet. If we try to access the data, we will get a fill value: "
   ]
  },
  {
   "cell_type": "code",
   "execution_count": 4,
   "id": "7d905f06",
   "metadata": {},
   "outputs": [
    {
     "data": {
      "text/plain": [
       "0.0"
      ]
     },
     "execution_count": 4,
     "metadata": {},
     "output_type": "execute_result"
    }
   ],
   "source": [
    "z[0, 0]\n"
   ]
  },
  {
   "cell_type": "markdown",
   "id": "a6091ba5",
   "metadata": {},
   "source": [
    "This is how we assign data to the array. When we do this it gets written immediately."
   ]
  },
  {
   "cell_type": "code",
   "execution_count": 6,
   "id": "1ccc28b6",
   "metadata": {},
   "outputs": [
    {
     "data": {
      "text/html": [
       "<table class=\"zarr-info\"><tbody><tr><th style=\"text-align: left\">Type</th><td style=\"text-align: left\">zarr.core.Array</td></tr><tr><th style=\"text-align: left\">Data type</th><td style=\"text-align: left\">float64</td></tr><tr><th style=\"text-align: left\">Shape</th><td style=\"text-align: left\">(40, 50)</td></tr><tr><th style=\"text-align: left\">Chunk shape</th><td style=\"text-align: left\">(10, 10)</td></tr><tr><th style=\"text-align: left\">Order</th><td style=\"text-align: left\">C</td></tr><tr><th style=\"text-align: left\">Read-only</th><td style=\"text-align: left\">False</td></tr><tr><th style=\"text-align: left\">Compressor</th><td style=\"text-align: left\">Blosc(cname='lz4', clevel=5, shuffle=SHUFFLE, blocksize=0)</td></tr><tr><th style=\"text-align: left\">Store type</th><td style=\"text-align: left\">zarr.storage.DirectoryStore</td></tr><tr><th style=\"text-align: left\">No. bytes</th><td style=\"text-align: left\">16000 (15.6K)</td></tr><tr><th style=\"text-align: left\">No. bytes stored</th><td style=\"text-align: left\">1277 (1.2K)</td></tr><tr><th style=\"text-align: left\">Storage ratio</th><td style=\"text-align: left\">12.5</td></tr><tr><th style=\"text-align: left\">Chunks initialized</th><td style=\"text-align: left\">20/20</td></tr></tbody></table>"
      ],
      "text/plain": [
       "Type               : zarr.core.Array\n",
       "Data type          : float64\n",
       "Shape              : (40, 50)\n",
       "Chunk shape        : (10, 10)\n",
       "Order              : C\n",
       "Read-only          : False\n",
       "Compressor         : Blosc(cname='lz4', clevel=5, shuffle=SHUFFLE, blocksize=0)\n",
       "Store type         : zarr.storage.DirectoryStore\n",
       "No. bytes          : 16000 (15.6K)\n",
       "No. bytes stored   : 1277 (1.2K)\n",
       "Storage ratio      : 12.5\n",
       "Chunks initialized : 20/20"
      ]
     },
     "execution_count": 6,
     "metadata": {},
     "output_type": "execute_result"
    }
   ],
   "source": [
    "z[:] = 1\n",
    "z.info"
   ]
  },
  {
   "cell_type": "markdown",
   "id": "c6a059cc",
   "metadata": {},
   "source": [
    "##### Attributes\n",
    "\n",
    "We can attach arbitrary metadata to our Array via attributes:"
   ]
  },
  {
   "cell_type": "code",
   "execution_count": 8,
   "id": "859c9cfe",
   "metadata": {},
   "outputs": [
    {
     "name": "stdout",
     "output_type": "stream",
     "text": [
      "{'standard_name': 'wind_speed', 'units': 'm/s'}\n"
     ]
    }
   ],
   "source": [
    "z.attrs['units'] = 'm/s'\n",
    "z.attrs['standard_name'] = 'wind_speed'\n",
    "print(dict(z.attrs))"
   ]
  },
  {
   "cell_type": "markdown",
   "id": "23885ea0",
   "metadata": {},
   "source": [
    "### Zarr Data Storage\n",
    "\n",
    "Zarr can be stored in memory, on disk, or in cloud storage systems like Amazon S3.\n",
    "\n",
    "Let's look under the hood. _The ability to look inside a Zarr store and understand what is there is a deliberate design decision._"
   ]
  },
  {
   "cell_type": "code",
   "execution_count": 9,
   "id": "1bbc935c",
   "metadata": {},
   "outputs": [
    {
     "data": {
      "text/plain": [
       "<zarr.storage.DirectoryStore at 0x107530650>"
      ]
     },
     "execution_count": 9,
     "metadata": {},
     "output_type": "execute_result"
    }
   ],
   "source": [
    "z.store"
   ]
  },
  {
   "cell_type": "code",
   "execution_count": 10,
   "id": "51953f01",
   "metadata": {},
   "outputs": [
    {
     "name": "stdout",
     "output_type": "stream",
     "text": [
      "\u001b[01;34mtest.zarr\u001b[0m\n",
      "├── \u001b[00m.zarray\u001b[0m\n",
      "├── \u001b[00m.zattrs\u001b[0m\n",
      "├── \u001b[00m0.0\u001b[0m\n",
      "├── \u001b[00m0.1\u001b[0m\n",
      "├── \u001b[00m0.2\u001b[0m\n",
      "├── \u001b[00m0.3\u001b[0m\n",
      "├── \u001b[00m0.4\u001b[0m\n",
      "├── \u001b[00m1.0\u001b[0m\n",
      "├── \u001b[00m1.1\u001b[0m\n"
     ]
    }
   ],
   "source": [
    "!tree -a test.zarr | head"
   ]
  },
  {
   "cell_type": "code",
   "execution_count": 11,
   "id": "9a6365b7",
   "metadata": {},
   "outputs": [
    {
     "name": "stdout",
     "output_type": "stream",
     "text": [
      "{'chunks': [10, 10], 'compressor': {'blocksize': 0, 'clevel': 5, 'cname': 'lz4', 'id': 'blosc', 'shuffle': 1}, 'dtype': '<f8', 'fill_value': 0.0, 'filters': None, 'order': 'C', 'shape': [40, 50], 'zarr_format': 2}\n"
     ]
    }
   ],
   "source": [
    "import json\n",
    "with open('test.zarr/.zarray') as fp:\n",
    "    print(json.load(fp))"
   ]
  },
  {
   "cell_type": "code",
   "execution_count": 12,
   "id": "d8f05ea3",
   "metadata": {},
   "outputs": [
    {
     "name": "stdout",
     "output_type": "stream",
     "text": [
      "{'standard_name': 'wind_speed', 'units': 'm/s'}\n"
     ]
    }
   ],
   "source": [
    "with open('test.zarr/.zattrs') as fp:\n",
    "    print(json.load(fp))"
   ]
  },
  {
   "cell_type": "code",
   "execution_count": null,
   "id": "1e0d1a8e",
   "metadata": {},
   "outputs": [],
   "source": []
  }
 ],
 "metadata": {
  "kernelspec": {
   "display_name": "ERA5_interactive",
   "language": "python",
   "name": "python3"
  },
  "language_info": {
   "codemirror_mode": {
    "name": "ipython",
    "version": 3
   },
   "file_extension": ".py",
   "mimetype": "text/x-python",
   "name": "python",
   "nbconvert_exporter": "python",
   "pygments_lexer": "ipython3",
   "version": "3.11.9"
  }
 },
 "nbformat": 4,
 "nbformat_minor": 5
}

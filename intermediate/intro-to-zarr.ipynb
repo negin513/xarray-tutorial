{
 "cells": [
  {
   "cell_type": "markdown",
   "id": "8253fe2d",
   "metadata": {},
   "source": [
    "# Introduction to Zarr\n",
    "\n",
    "This notebook provides a brief introduction to Zarr and how to\n",
    "use it in cloud environments for scalable, chunked, and compressed data storage.\n",
    "Zarr is a file format with implementations in different languages. In this tutorial, we will look at an example of how to use the Zarr format by looking at some features of the `zarr-python` library and how Zarr files can be opened with `xarray`.\n",
    "\n",
    "## What is Zarr?\n",
    "\n",
    "The Zarr data format is an open, community-maintained format designed for efficient, scalable storage of large N-dimensional arrays. It stores data as compressed and chunked arrays in a format well-suited to parallel processing and cloud-native workflows.\n",
    "\n",
    "### Zarr Data Organization:\n",
    "- **Arrays**: N-dimensional arrays that can be chunked and compressed.\n",
    "- **Groups**: A container for organizing multiple arrays and other groups with a hierarchical structure.\n",
    "- **Metadata**: JSON-like metadata describing the arrays and groups, including information about dimensions, data types, and compression.\n",
    "- **Dimensions and Shape**: Arrays can have any number of dimensions, and their shape is defined by the number of elements in each dimension.\n",
    "- **Coordinates & Indexing**: Zarr supports coordinate arrays for each dimension, allowing for efficient indexing and slicing.\n",
    "\n",
    "The diagram below showing the structure of a Zarr file:\n",
    "![EarthData](https://learning.nceas.ucsb.edu/2025-04-arctic/images/zarr-chunks.png)\n"
   ]
  },
  {
   "cell_type": "markdown",
   "id": "89a8f0ec",
   "metadata": {
    "vscode": {
     "languageId": "plaintext"
    }
   },
   "source": [
    "### Zarr Fundamenals\n",
    "A Zarr array has the following important properties:\n",
    "- **Shape**: The dimensions of the array.\n",
    "- **Dtype**: The data type of each element (e.g., float32).\n",
    "- **Attributes**: Metadata stored as key-value pairs (e.g., units, description.\n",
    "- **Compressors**: Algorithms used to compress each chunk (e.g., Blosc, Zlib).\n",
    "\n",
    "\n",
    "#### Example: Creating and Inspecting a Zarr Array"
   ]
  },
  {
   "cell_type": "code",
   "execution_count": 13,
   "id": "ae9c38ed",
   "metadata": {},
   "outputs": [
    {
     "data": {
      "text/plain": [
       "<Array file://test.zarr shape=(40, 50) dtype=float64>"
      ]
     },
     "execution_count": 13,
     "metadata": {},
     "output_type": "execute_result"
    }
   ],
   "source": [
    "import zarr\n",
    "z = zarr.create(shape=(40, 50), chunks=(10, 10), dtype='f8', store='test.zarr')\n",
    "z"
   ]
  },
  {
   "cell_type": "code",
   "execution_count": 14,
   "id": "0f39867a",
   "metadata": {},
   "outputs": [
    {
     "data": {
      "text/plain": [
       "Type               : Array\n",
       "Zarr format        : 3\n",
       "Data type          : DataType.float64\n",
       "Fill value         : 0.0\n",
       "Shape              : (40, 50)\n",
       "Chunk shape        : (10, 10)\n",
       "Order              : C\n",
       "Read-only          : False\n",
       "Store type         : LocalStore\n",
       "Filters            : ()\n",
       "Serializer         : BytesCodec(endian=<Endian.little: 'little'>)\n",
       "Compressors        : (ZstdCodec(level=0, checksum=False),)\n",
       "No. bytes          : 16000 (15.6K)"
      ]
     },
     "execution_count": 14,
     "metadata": {},
     "output_type": "execute_result"
    }
   ],
   "source": [
    "z.info"
   ]
  },
  {
   "cell_type": "code",
   "execution_count": 15,
   "id": "dbe47985",
   "metadata": {},
   "outputs": [
    {
     "data": {
      "text/plain": [
       "np.float64(0.0)"
      ]
     },
     "execution_count": 15,
     "metadata": {},
     "output_type": "execute_result"
    }
   ],
   "source": [
    "z.fill_value"
   ]
  },
  {
   "cell_type": "markdown",
   "id": "f5dcee68",
   "metadata": {},
   "source": [
    "No data has been written to the array yet. If we try to access the data, we will get a fill value: "
   ]
  },
  {
   "cell_type": "code",
   "execution_count": 16,
   "id": "7d905f06",
   "metadata": {},
   "outputs": [
    {
     "data": {
      "text/plain": [
       "array(0.)"
      ]
     },
     "execution_count": 16,
     "metadata": {},
     "output_type": "execute_result"
    }
   ],
   "source": [
    "z[0, 0]\n"
   ]
  },
  {
   "cell_type": "markdown",
   "id": "a6091ba5",
   "metadata": {},
   "source": [
    "This is how we assign data to the array. When we do this it gets written immediately."
   ]
  },
  {
   "cell_type": "code",
   "execution_count": 17,
   "id": "1ccc28b6",
   "metadata": {},
   "outputs": [
    {
     "data": {
      "text/plain": [
       "Type               : Array\n",
       "Zarr format        : 3\n",
       "Data type          : DataType.float64\n",
       "Fill value         : 0.0\n",
       "Shape              : (40, 50)\n",
       "Chunk shape        : (10, 10)\n",
       "Order              : C\n",
       "Read-only          : False\n",
       "Store type         : LocalStore\n",
       "Filters            : ()\n",
       "Serializer         : BytesCodec(endian=<Endian.little: 'little'>)\n",
       "Compressors        : (ZstdCodec(level=0, checksum=False),)\n",
       "No. bytes          : 16000 (15.6K)"
      ]
     },
     "execution_count": 17,
     "metadata": {},
     "output_type": "execute_result"
    }
   ],
   "source": [
    "z[:] = 1\n",
    "z.info"
   ]
  },
  {
   "cell_type": "markdown",
   "id": "c6a059cc",
   "metadata": {},
   "source": [
    "##### Attributes\n",
    "\n",
    "We can attach arbitrary metadata to our Array via attributes:"
   ]
  },
  {
   "cell_type": "code",
   "execution_count": 18,
   "id": "859c9cfe",
   "metadata": {},
   "outputs": [
    {
     "name": "stdout",
     "output_type": "stream",
     "text": [
      "{'units': 'm/s', 'standard_name': 'wind_speed'}\n"
     ]
    }
   ],
   "source": [
    "z.attrs['units'] = 'm/s'\n",
    "z.attrs['standard_name'] = 'wind_speed'\n",
    "print(dict(z.attrs))"
   ]
  },
  {
   "cell_type": "markdown",
   "id": "23885ea0",
   "metadata": {},
   "source": [
    "### Zarr Data Storage\n",
    "\n",
    "Zarr can be stored in memory, on disk, or in cloud storage systems like Amazon S3.\n",
    "\n",
    "Let's look under the hood. _The ability to look inside a Zarr store and understand what is there is a deliberate design decision._"
   ]
  },
  {
   "cell_type": "code",
   "execution_count": 19,
   "id": "1bbc935c",
   "metadata": {},
   "outputs": [
    {
     "data": {
      "text/plain": [
       "LocalStore('file://test.zarr')"
      ]
     },
     "execution_count": 19,
     "metadata": {},
     "output_type": "execute_result"
    }
   ],
   "source": [
    "z.store"
   ]
  },
  {
   "cell_type": "code",
   "execution_count": 23,
   "id": "51953f01",
   "metadata": {},
   "outputs": [
    {
     "name": "stdout",
     "output_type": "stream",
     "text": [
      "\u001b[01;34mtest.zarr\u001b[0m\n",
      "├── \u001b[01;34mc\u001b[0m\n",
      "│   ├── \u001b[01;34m0\u001b[0m\n",
      "│   │   ├── \u001b[00m0\u001b[0m\n",
      "│   │   ├── \u001b[00m1\u001b[0m\n",
      "│   │   ├── \u001b[00m2\u001b[0m\n",
      "│   │   ├── \u001b[00m3\u001b[0m\n",
      "│   │   └── \u001b[00m4\u001b[0m\n",
      "│   ├── \u001b[01;34m1\u001b[0m\n",
      "│   │   ├── \u001b[00m0\u001b[0m\n"
     ]
    }
   ],
   "source": [
    "!tree -a test.zarr | head"
   ]
  },
  {
   "cell_type": "markdown",
   "id": "1e0d1a8e",
   "metadata": {},
   "source": [
    "#### Compressors\n",
    "A number of different compressors can be used with Zarr. The built-in options include Blosc, Zstandard, and Gzip. Additional compressors are available through the [NumCodecs](https://numcodecs.readthedocs.io) package, which supports LZ4, Zlib, BZ2, and LZMA. \n",
    "\n",
    "Let's check the compressor we used when creating the array:"
   ]
  },
  {
   "cell_type": "code",
   "execution_count": 29,
   "id": "5263951c",
   "metadata": {},
   "outputs": [
    {
     "data": {
      "text/plain": [
       "(ZstdCodec(level=0, checksum=False),)"
      ]
     },
     "execution_count": 29,
     "metadata": {},
     "output_type": "execute_result"
    }
   ],
   "source": [
    "z.compressors"
   ]
  },
  {
   "cell_type": "markdown",
   "id": "b948f73c",
   "metadata": {},
   "source": [
    "If you don’t specify a compressor, by default Zarr uses the Zstandard compressor."
   ]
  },
  {
   "cell_type": "markdown",
   "id": "75d91cf7",
   "metadata": {},
   "source": [
    "How much space was saved by compression?\n"
   ]
  },
  {
   "cell_type": "code",
   "execution_count": 30,
   "id": "49bbc63e",
   "metadata": {},
   "outputs": [
    {
     "data": {
      "text/plain": [
       "Type               : Array\n",
       "Zarr format        : 3\n",
       "Data type          : DataType.float64\n",
       "Fill value         : 0.0\n",
       "Shape              : (40, 50)\n",
       "Chunk shape        : (10, 10)\n",
       "Order              : C\n",
       "Read-only          : False\n",
       "Store type         : LocalStore\n",
       "Filters            : ()\n",
       "Serializer         : BytesCodec(endian=<Endian.little: 'little'>)\n",
       "Compressors        : (ZstdCodec(level=0, checksum=False),)\n",
       "No. bytes          : 16000 (15.6K)\n",
       "No. bytes stored   : 1216\n",
       "Storage ratio      : 13.2\n",
       "Chunks Initialized : 20"
      ]
     },
     "execution_count": 30,
     "metadata": {},
     "output_type": "execute_result"
    }
   ],
   "source": [
    "z.info_complete()"
   ]
  },
  {
   "cell_type": "markdown",
   "id": "4b33663a",
   "metadata": {},
   "source": [
    "You can set `compression=None` when creating a Zarr array to turn off compression. This is useful for debugging or when you want to store data without compression."
   ]
  },
  {
   "cell_type": "markdown",
   "id": "388d7c50",
   "metadata": {},
   "source": [
    "```{info}\n",
    "`.info_complete()` provides a more detailed view of the Zarr array, including metadata about the chunks, compressors, and attributes, but will be slower for larger arrays. \n",
    "```"
   ]
  },
  {
   "cell_type": "markdown",
   "id": "cd94a896",
   "metadata": {},
   "source": [
    "#### Consolidated Metadata\n",
    "Zarr supports consolidated metadata, which allows you to store all metadata in a single file. This can improve performance when reading metadata, especially for large datasets.\n",
    "\n",
    "So far we have only been dealing in single array Zarr data stores. In this next example, we will create a zarr store with multiple arrays and then consolidate metadata. The speed up is significant when dealing in remote storage options, which we will see in the following example on accessing cloud storage."
   ]
  },
  {
   "cell_type": "code",
   "execution_count": 43,
   "id": "8498eccc",
   "metadata": {},
   "outputs": [
    {
     "name": "stderr",
     "output_type": "stream",
     "text": [
      "/Users/negins/miniconda/envs/zarr_tutorial/lib/python3.13/site-packages/zarr/api/asynchronous.py:227: UserWarning: Consolidated metadata is currently not part in the Zarr format 3 specification. It may not be supported by other zarr implementations and may change in the future.\n",
      "  warnings.warn(\n"
     ]
    },
    {
     "data": {
      "text/plain": [
       "<Group memory://5213924096>"
      ]
     },
     "execution_count": 43,
     "metadata": {},
     "output_type": "execute_result"
    }
   ],
   "source": [
    "store = zarr.storage.MemoryStore()\n",
    "group = zarr.create_group(store=store)\n",
    "group.create_array(shape=(1,), name='a', dtype='float64')\n",
    "group.create_array(shape=(2, 2), name='b', dtype='float64')\n",
    "group.create_array(shape=(3, 3, 3), name='c', dtype='float64')\n",
    "zarr.consolidate_metadata(store)"
   ]
  },
  {
   "cell_type": "markdown",
   "id": "7b8d557b",
   "metadata": {},
   "source": [
    "Now, if we open that group, the Group’s metadata has a zarr.core.group.ConsolidatedMetadata that can be used:"
   ]
  },
  {
   "cell_type": "code",
   "execution_count": 44,
   "id": "57c688fc",
   "metadata": {},
   "outputs": [
    {
     "name": "stdout",
     "output_type": "stream",
     "text": [
      "{'a': ArrayV3Metadata(shape=(1,),\n",
      "                      data_type=<DataType.float64: 'float64'>,\n",
      "                      chunk_grid=RegularChunkGrid(chunk_shape=(1,)),\n",
      "                      chunk_key_encoding=DefaultChunkKeyEncoding(name='default',\n",
      "                                                                 separator='/'),\n",
      "                      fill_value=np.float64(0.0),\n",
      "                      codecs=(BytesCodec(endian=<Endian.little: 'little'>),\n",
      "                              ZstdCodec(level=0, checksum=False)),\n",
      "                      attributes={},\n",
      "                      dimension_names=None,\n",
      "                      zarr_format=3,\n",
      "                      node_type='array',\n",
      "                      storage_transformers=()),\n",
      " 'b': ArrayV3Metadata(shape=(2, 2),\n",
      "                      data_type=<DataType.float64: 'float64'>,\n",
      "                      chunk_grid=RegularChunkGrid(chunk_shape=(2, 2)),\n",
      "                      chunk_key_encoding=DefaultChunkKeyEncoding(name='default',\n",
      "                                                                 separator='/'),\n",
      "                      fill_value=np.float64(0.0),\n",
      "                      codecs=(BytesCodec(endian=<Endian.little: 'little'>),\n",
      "                              ZstdCodec(level=0, checksum=False)),\n",
      "                      attributes={},\n",
      "                      dimension_names=None,\n",
      "                      zarr_format=3,\n",
      "                      node_type='array',\n",
      "                      storage_transformers=()),\n",
      " 'c': ArrayV3Metadata(shape=(3, 3, 3),\n",
      "                      data_type=<DataType.float64: 'float64'>,\n",
      "                      chunk_grid=RegularChunkGrid(chunk_shape=(3, 3, 3)),\n",
      "                      chunk_key_encoding=DefaultChunkKeyEncoding(name='default',\n",
      "                                                                 separator='/'),\n",
      "                      fill_value=np.float64(0.0),\n",
      "                      codecs=(BytesCodec(endian=<Endian.little: 'little'>),\n",
      "                              ZstdCodec(level=0, checksum=False)),\n",
      "                      attributes={},\n",
      "                      dimension_names=None,\n",
      "                      zarr_format=3,\n",
      "                      node_type='array',\n",
      "                      storage_transformers=())}\n"
     ]
    }
   ],
   "source": [
    "consolidated = zarr.open_group(store=store)\n",
    "consolidated_metadata = consolidated.metadata.consolidated_metadata.metadata\n",
    "from pprint import pprint\n",
    "pprint(dict(sorted(consolidated_metadata.items())))"
   ]
  },
  {
   "cell_type": "markdown",
   "id": "c6454acf",
   "metadata": {},
   "source": [
    "### Object Storage as a Zarr Store\n",
    "\n",
    "Zarr’s layout (many files/chunks per array) maps perfectly onto object storage, such as Amazon S3, Google Cloud Storage, or Azure Blob Storage. Each chunk is stored as a separate object, enabling distributed reads/writes.\n",
    "\n"
   ]
  },
  {
   "cell_type": "markdown",
   "id": "5eb5ff8b",
   "metadata": {},
   "source": [
    "Here are some examples of Zarr stores on the cloud:\n",
    "\n",
    "* [Zarr data in Microsoft's Planetary Computer](https://planetarycomputer.microsoft.com/catalog?filter=zarr)\n",
    "* [Zarr data from Google](https://console.cloud.google.com/marketplace/browse?filter=solution-type:dataset&_ga=2.226354714.1000882083.1692116148-1788942020.1692116148&pli=1&q=zarr)\n",
    "* [Amazon Sustainability Data Initiative available from Registry of Open Data on AWS](https://registry.opendata.aws/collab/asdi/) - Enter \"Zarr\" in the Search input box.\n",
    "* [Pangeo-Forge Data Catalog](https://pangeo-forge.org/catalog)\n"
   ]
  },
  {
   "cell_type": "markdown",
   "id": "18c6f915",
   "metadata": {},
   "source": []
  },
  {
   "cell_type": "code",
   "execution_count": 49,
   "id": "dba10f47",
   "metadata": {},
   "outputs": [
    {
     "ename": "NameError",
     "evalue": "name 'xr' is not defined",
     "output_type": "error",
     "traceback": [
      "\u001b[31m---------------------------------------------------------------------------\u001b[39m",
      "\u001b[31mNameError\u001b[39m                                 Traceback (most recent call last)",
      "\u001b[36mCell\u001b[39m\u001b[36m \u001b[39m\u001b[32mIn[49]\u001b[39m\u001b[32m, line 3\u001b[39m\n\u001b[32m      1\u001b[39m store = \u001b[33m'\u001b[39m\u001b[33mhttps://ncsa.osn.xsede.org/Pangeo/pangeo-forge/gpcp-feedstock/gpcp.zarr\u001b[39m\u001b[33m'\u001b[39m\n\u001b[32m----> \u001b[39m\u001b[32m3\u001b[39m ds = \u001b[43mxr\u001b[49m.open_dataset(store, engine=\u001b[33m'\u001b[39m\u001b[33mzarr\u001b[39m\u001b[33m'\u001b[39m, chunks={}, consolidated=\u001b[38;5;28;01mTrue\u001b[39;00m)\n\u001b[32m      4\u001b[39m ds\n",
      "\u001b[31mNameError\u001b[39m: name 'xr' is not defined"
     ]
    }
   ],
   "source": [
    "store = 'https://ncsa.osn.xsede.org/Pangeo/pangeo-forge/gpcp-feedstock/gpcp.zarr'\n",
    "\n",
    "ds = xr.open_dataset(store, engine='zarr', chunks={}, consolidated=True)\n",
    "ds"
   ]
  },
  {
   "cell_type": "markdown",
   "id": "9c4af068",
   "metadata": {},
   "source": []
  }
 ],
 "metadata": {
  "kernelspec": {
   "display_name": "zarr_tutorial",
   "language": "python",
   "name": "python3"
  },
  "language_info": {
   "codemirror_mode": {
    "name": "ipython",
    "version": 3
   },
   "file_extension": ".py",
   "mimetype": "text/x-python",
   "name": "python",
   "nbconvert_exporter": "python",
   "pygments_lexer": "ipython3",
   "version": "3.13.5"
  }
 },
 "nbformat": 4,
 "nbformat_minor": 5
}
